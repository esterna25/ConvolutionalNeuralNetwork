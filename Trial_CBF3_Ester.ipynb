{
  "nbformat": 4,
  "nbformat_minor": 0,
  "metadata": {
    "colab": {
      "provenance": [],
      "include_colab_link": true
    },
    "kernelspec": {
      "name": "python3",
      "display_name": "Python 3"
    },
    "language_info": {
      "name": "python"
    }
  },
  "cells": [
    {
      "cell_type": "markdown",
      "metadata": {
        "id": "view-in-github",
        "colab_type": "text"
      },
      "source": [
        "<a href=\"https://colab.research.google.com/github/esterna25/ConvolutionalNeuralNetwork/blob/main/Trial_CBF3_Ester.ipynb\" target=\"_parent\"><img src=\"https://colab.research.google.com/assets/colab-badge.svg\" alt=\"Open In Colab\"/></a>"
      ]
    },
    {
      "cell_type": "markdown",
      "source": [
        "## Recommendation System: Content Based Filtering of Activity and Packet Tour"
      ],
      "metadata": {
        "id": "G7x_T9rpCuj0"
      }
    },
    {
      "cell_type": "markdown",
      "source": [
        "**Step 1: Import Libraries**"
      ],
      "metadata": {
        "id": "rPpvbVES5ezO"
      }
    },
    {
      "cell_type": "code",
      "execution_count": null,
      "metadata": {
        "id": "FIIKPERvd82p"
      },
      "outputs": [],
      "source": [
        "import pandas as pd\n",
        "from sklearn.metrics.pairwise import cosine_similarity\n",
        "from sklearn.feature_extraction.text import TfidfVectorizer\n",
        "from nltk.tokenize import word_tokenize\n",
        "from nltk.corpus import stopwords\n",
        "import re\n",
        "import random"
      ]
    },
    {
      "cell_type": "code",
      "source": [
        "# Load the dataset\n",
        "dataset = pd.read_csv(\"dataset_coba2.csv\", sep=';', index_col='id')\n",
        "dataset.head()"
      ],
      "metadata": {
        "colab": {
          "base_uri": "https://localhost:8080/",
          "height": 475
        },
        "id": "2gq-AVT9eMuJ",
        "outputId": "14a73c69-1ea2-46ae-8df5-b735ff40db2d"
      },
      "execution_count": null,
      "outputs": [
        {
          "output_type": "execute_result",
          "data": {
            "text/plain": [
              "   travel_preference transportation_preference physical_activity_level  \\\n",
              "id                                                                       \n",
              "0         Group tour                    Biking             Challenging   \n",
              "1         Group tour                   Walking                    Easy   \n",
              "2               Solo                    Biking                  Medium   \n",
              "3               Solo                Car rental                    Easy   \n",
              "4         Group tour                    Biking                  Medium   \n",
              "\n",
              "    activity_preferences                               activity_description  \\\n",
              "id                                                                            \n",
              "0   Village Tour Cycling  Biking is the activity of cycling on various t...   \n",
              "1    Rice Field Trekking  Trekking is an activity of walking in nature t...   \n",
              "2   Village Tour Cycling  Biking is the activity of cycling on various t...   \n",
              "3     Fireflies Watching  Activities that involve observing and witnessi...   \n",
              "4          Cooking Class  The highlight of the experience is travel back...   \n",
              "\n",
              "                                     tour_preferences  \\\n",
              "id                                                      \n",
              "0   3D/2N Authentic Rural Experience at Tegal duku...   \n",
              "1                      Treasure Hunt & Cooking Battle   \n",
              "2                      Treasure Hunt & Cooking Battle   \n",
              "3                      Hiking Journey In Taro Village   \n",
              "4                      Treasure Hunt & Cooking Battle   \n",
              "\n",
              "                                     tour_description  \\\n",
              "id                                                      \n",
              "0   Tour packages that offer an authentic rural ex...   \n",
              "1   Treasure Hunt & Cooking Battle adalah paket tu...   \n",
              "2   Treasure Hunt & Cooking Battle adalah paket tu...   \n",
              "3   Hiking trips in Taro Village that offer advent...   \n",
              "4   Treasure Hunt & Cooking Battle adalah paket tu...   \n",
              "\n",
              "                 budget_range trip_duration  \n",
              "id                                           \n",
              "0   Rp 500.000 - Rp 1.000.000   2 or 3 Days  \n",
              "1     Rp 250.000 - Rp 500.000         1 Day  \n",
              "2     Rp 250.000 - Rp 500.000         1 Day  \n",
              "3   Rp 500.000 - Rp 1.000.000         1 Day  \n",
              "4     Rp 250.000 - Rp 500.000         1 Day  "
            ],
            "text/html": [
              "\n",
              "  <div id=\"df-d03ce798-5d3b-42f8-88cc-8a99ea9680b3\">\n",
              "    <div class=\"colab-df-container\">\n",
              "      <div>\n",
              "<style scoped>\n",
              "    .dataframe tbody tr th:only-of-type {\n",
              "        vertical-align: middle;\n",
              "    }\n",
              "\n",
              "    .dataframe tbody tr th {\n",
              "        vertical-align: top;\n",
              "    }\n",
              "\n",
              "    .dataframe thead th {\n",
              "        text-align: right;\n",
              "    }\n",
              "</style>\n",
              "<table border=\"1\" class=\"dataframe\">\n",
              "  <thead>\n",
              "    <tr style=\"text-align: right;\">\n",
              "      <th></th>\n",
              "      <th>travel_preference</th>\n",
              "      <th>transportation_preference</th>\n",
              "      <th>physical_activity_level</th>\n",
              "      <th>activity_preferences</th>\n",
              "      <th>activity_description</th>\n",
              "      <th>tour_preferences</th>\n",
              "      <th>tour_description</th>\n",
              "      <th>budget_range</th>\n",
              "      <th>trip_duration</th>\n",
              "    </tr>\n",
              "    <tr>\n",
              "      <th>id</th>\n",
              "      <th></th>\n",
              "      <th></th>\n",
              "      <th></th>\n",
              "      <th></th>\n",
              "      <th></th>\n",
              "      <th></th>\n",
              "      <th></th>\n",
              "      <th></th>\n",
              "      <th></th>\n",
              "    </tr>\n",
              "  </thead>\n",
              "  <tbody>\n",
              "    <tr>\n",
              "      <th>0</th>\n",
              "      <td>Group tour</td>\n",
              "      <td>Biking</td>\n",
              "      <td>Challenging</td>\n",
              "      <td>Village Tour Cycling</td>\n",
              "      <td>Biking is the activity of cycling on various t...</td>\n",
              "      <td>3D/2N Authentic Rural Experience at Tegal duku...</td>\n",
              "      <td>Tour packages that offer an authentic rural ex...</td>\n",
              "      <td>Rp 500.000 - Rp 1.000.000</td>\n",
              "      <td>2 or 3 Days</td>\n",
              "    </tr>\n",
              "    <tr>\n",
              "      <th>1</th>\n",
              "      <td>Group tour</td>\n",
              "      <td>Walking</td>\n",
              "      <td>Easy</td>\n",
              "      <td>Rice Field Trekking</td>\n",
              "      <td>Trekking is an activity of walking in nature t...</td>\n",
              "      <td>Treasure Hunt &amp; Cooking Battle</td>\n",
              "      <td>Treasure Hunt &amp; Cooking Battle adalah paket tu...</td>\n",
              "      <td>Rp 250.000 - Rp 500.000</td>\n",
              "      <td>1 Day</td>\n",
              "    </tr>\n",
              "    <tr>\n",
              "      <th>2</th>\n",
              "      <td>Solo</td>\n",
              "      <td>Biking</td>\n",
              "      <td>Medium</td>\n",
              "      <td>Village Tour Cycling</td>\n",
              "      <td>Biking is the activity of cycling on various t...</td>\n",
              "      <td>Treasure Hunt &amp; Cooking Battle</td>\n",
              "      <td>Treasure Hunt &amp; Cooking Battle adalah paket tu...</td>\n",
              "      <td>Rp 250.000 - Rp 500.000</td>\n",
              "      <td>1 Day</td>\n",
              "    </tr>\n",
              "    <tr>\n",
              "      <th>3</th>\n",
              "      <td>Solo</td>\n",
              "      <td>Car rental</td>\n",
              "      <td>Easy</td>\n",
              "      <td>Fireflies Watching</td>\n",
              "      <td>Activities that involve observing and witnessi...</td>\n",
              "      <td>Hiking Journey In Taro Village</td>\n",
              "      <td>Hiking trips in Taro Village that offer advent...</td>\n",
              "      <td>Rp 500.000 - Rp 1.000.000</td>\n",
              "      <td>1 Day</td>\n",
              "    </tr>\n",
              "    <tr>\n",
              "      <th>4</th>\n",
              "      <td>Group tour</td>\n",
              "      <td>Biking</td>\n",
              "      <td>Medium</td>\n",
              "      <td>Cooking Class</td>\n",
              "      <td>The highlight of the experience is travel back...</td>\n",
              "      <td>Treasure Hunt &amp; Cooking Battle</td>\n",
              "      <td>Treasure Hunt &amp; Cooking Battle adalah paket tu...</td>\n",
              "      <td>Rp 250.000 - Rp 500.000</td>\n",
              "      <td>1 Day</td>\n",
              "    </tr>\n",
              "  </tbody>\n",
              "</table>\n",
              "</div>\n",
              "      <button class=\"colab-df-convert\" onclick=\"convertToInteractive('df-d03ce798-5d3b-42f8-88cc-8a99ea9680b3')\"\n",
              "              title=\"Convert this dataframe to an interactive table.\"\n",
              "              style=\"display:none;\">\n",
              "        \n",
              "  <svg xmlns=\"http://www.w3.org/2000/svg\" height=\"24px\"viewBox=\"0 0 24 24\"\n",
              "       width=\"24px\">\n",
              "    <path d=\"M0 0h24v24H0V0z\" fill=\"none\"/>\n",
              "    <path d=\"M18.56 5.44l.94 2.06.94-2.06 2.06-.94-2.06-.94-.94-2.06-.94 2.06-2.06.94zm-11 1L8.5 8.5l.94-2.06 2.06-.94-2.06-.94L8.5 2.5l-.94 2.06-2.06.94zm10 10l.94 2.06.94-2.06 2.06-.94-2.06-.94-.94-2.06-.94 2.06-2.06.94z\"/><path d=\"M17.41 7.96l-1.37-1.37c-.4-.4-.92-.59-1.43-.59-.52 0-1.04.2-1.43.59L10.3 9.45l-7.72 7.72c-.78.78-.78 2.05 0 2.83L4 21.41c.39.39.9.59 1.41.59.51 0 1.02-.2 1.41-.59l7.78-7.78 2.81-2.81c.8-.78.8-2.07 0-2.86zM5.41 20L4 18.59l7.72-7.72 1.47 1.35L5.41 20z\"/>\n",
              "  </svg>\n",
              "      </button>\n",
              "      \n",
              "  <style>\n",
              "    .colab-df-container {\n",
              "      display:flex;\n",
              "      flex-wrap:wrap;\n",
              "      gap: 12px;\n",
              "    }\n",
              "\n",
              "    .colab-df-convert {\n",
              "      background-color: #E8F0FE;\n",
              "      border: none;\n",
              "      border-radius: 50%;\n",
              "      cursor: pointer;\n",
              "      display: none;\n",
              "      fill: #1967D2;\n",
              "      height: 32px;\n",
              "      padding: 0 0 0 0;\n",
              "      width: 32px;\n",
              "    }\n",
              "\n",
              "    .colab-df-convert:hover {\n",
              "      background-color: #E2EBFA;\n",
              "      box-shadow: 0px 1px 2px rgba(60, 64, 67, 0.3), 0px 1px 3px 1px rgba(60, 64, 67, 0.15);\n",
              "      fill: #174EA6;\n",
              "    }\n",
              "\n",
              "    [theme=dark] .colab-df-convert {\n",
              "      background-color: #3B4455;\n",
              "      fill: #D2E3FC;\n",
              "    }\n",
              "\n",
              "    [theme=dark] .colab-df-convert:hover {\n",
              "      background-color: #434B5C;\n",
              "      box-shadow: 0px 1px 3px 1px rgba(0, 0, 0, 0.15);\n",
              "      filter: drop-shadow(0px 1px 2px rgba(0, 0, 0, 0.3));\n",
              "      fill: #FFFFFF;\n",
              "    }\n",
              "  </style>\n",
              "\n",
              "      <script>\n",
              "        const buttonEl =\n",
              "          document.querySelector('#df-d03ce798-5d3b-42f8-88cc-8a99ea9680b3 button.colab-df-convert');\n",
              "        buttonEl.style.display =\n",
              "          google.colab.kernel.accessAllowed ? 'block' : 'none';\n",
              "\n",
              "        async function convertToInteractive(key) {\n",
              "          const element = document.querySelector('#df-d03ce798-5d3b-42f8-88cc-8a99ea9680b3');\n",
              "          const dataTable =\n",
              "            await google.colab.kernel.invokeFunction('convertToInteractive',\n",
              "                                                     [key], {});\n",
              "          if (!dataTable) return;\n",
              "\n",
              "          const docLinkHtml = 'Like what you see? Visit the ' +\n",
              "            '<a target=\"_blank\" href=https://colab.research.google.com/notebooks/data_table.ipynb>data table notebook</a>'\n",
              "            + ' to learn more about interactive tables.';\n",
              "          element.innerHTML = '';\n",
              "          dataTable['output_type'] = 'display_data';\n",
              "          await google.colab.output.renderOutput(dataTable, element);\n",
              "          const docLink = document.createElement('div');\n",
              "          docLink.innerHTML = docLinkHtml;\n",
              "          element.appendChild(docLink);\n",
              "        }\n",
              "      </script>\n",
              "    </div>\n",
              "  </div>\n",
              "  "
            ]
          },
          "metadata": {},
          "execution_count": 6
        }
      ]
    },
    {
      "cell_type": "code",
      "source": [
        "dataset.info()"
      ],
      "metadata": {
        "colab": {
          "base_uri": "https://localhost:8080/"
        },
        "id": "TaK5T5kZeUG_",
        "outputId": "2de9b407-6cb9-4278-de05-d0088d296461"
      },
      "execution_count": null,
      "outputs": [
        {
          "output_type": "stream",
          "name": "stdout",
          "text": [
            "<class 'pandas.core.frame.DataFrame'>\n",
            "Int64Index: 7 entries, 0 to 6\n",
            "Data columns (total 9 columns):\n",
            " #   Column                     Non-Null Count  Dtype \n",
            "---  ------                     --------------  ----- \n",
            " 0   travel_preference          7 non-null      object\n",
            " 1   transportation_preference  7 non-null      object\n",
            " 2   physical_activity_level    7 non-null      object\n",
            " 3   activity_preferences       7 non-null      object\n",
            " 4   activity_description       7 non-null      object\n",
            " 5   tour_preferences           7 non-null      object\n",
            " 6   tour_description           7 non-null      object\n",
            " 7   budget_range               7 non-null      object\n",
            " 8   trip_duration              7 non-null      object\n",
            "dtypes: object(9)\n",
            "memory usage: 560.0+ bytes\n"
          ]
        }
      ]
    },
    {
      "cell_type": "code",
      "source": [
        "# Check activity_description\n",
        "def print_description(index):\n",
        "    example = dataset[dataset.index == index][['activity_description', 'travel_preference', 'activity_preferences']].values[0]\n",
        "    if len(example) > 0:\n",
        "        print(example[0])\n",
        "        print('travel_preference:', example[1])\n",
        "        print('activity_preferences:', example[2])  "
      ],
      "metadata": {
        "id": "GlkQXGa2eWXb"
      },
      "execution_count": null,
      "outputs": []
    },
    {
      "cell_type": "code",
      "source": [
        "print_description(1)"
      ],
      "metadata": {
        "colab": {
          "base_uri": "https://localhost:8080/"
        },
        "id": "fprTW5FQ52fX",
        "outputId": "f42ed714-0b99-4653-c330-91e23821bc73"
      },
      "execution_count": null,
      "outputs": [
        {
          "output_type": "stream",
          "name": "stdout",
          "text": [
            "Trekking is an activity of walking in nature to explore mountain paths, forests or other natural areas. This activity is quite easy, followed by at least 2 people or a group. In this activity, there are Rice Field Trekking and Jungle Trekking.\n",
            "travel_preference: Group tour\n",
            "activity_preferences: Rice Field Trekking\n"
          ]
        }
      ]
    },
    {
      "cell_type": "code",
      "source": [
        "print(dataset.columns)"
      ],
      "metadata": {
        "colab": {
          "base_uri": "https://localhost:8080/"
        },
        "id": "f5xWVXq4eYzT",
        "outputId": "a339b234-c1fe-490f-be8c-84d3a1c024bf"
      },
      "execution_count": null,
      "outputs": [
        {
          "output_type": "stream",
          "name": "stdout",
          "text": [
            "Index(['travel_preference', 'transportation_preference',\n",
            "       'physical_activity_level', 'activity_preferences',\n",
            "       'activity_description', 'tour_preferences', 'tour_description',\n",
            "       'budget_range', 'trip_duration'],\n",
            "      dtype='object')\n"
          ]
        }
      ]
    },
    {
      "cell_type": "code",
      "source": [
        "print(dataset.index)"
      ],
      "metadata": {
        "colab": {
          "base_uri": "https://localhost:8080/"
        },
        "id": "nimS1BHUebAB",
        "outputId": "8acf6140-5254-497b-dfe6-3595a792a53e"
      },
      "execution_count": null,
      "outputs": [
        {
          "output_type": "stream",
          "name": "stdout",
          "text": [
            "Int64Index([0, 1, 2, 3, 4, 5, 6], dtype='int64', name='id')\n"
          ]
        }
      ]
    },
    {
      "cell_type": "code",
      "source": [
        "import nltk\n",
        "nltk.download('stopwords')\n"
      ],
      "metadata": {
        "colab": {
          "base_uri": "https://localhost:8080/"
        },
        "id": "pNR9TBFomIn5",
        "outputId": "6d9c6f6b-b8b6-407c-ceef-586250ffd9e7"
      },
      "execution_count": null,
      "outputs": [
        {
          "output_type": "stream",
          "name": "stderr",
          "text": [
            "[nltk_data] Downloading package stopwords to /root/nltk_data...\n",
            "[nltk_data]   Package stopwords is already up-to-date!\n"
          ]
        },
        {
          "output_type": "execute_result",
          "data": {
            "text/plain": [
              "True"
            ]
          },
          "metadata": {},
          "execution_count": 33
        }
      ]
    },
    {
      "cell_type": "code",
      "source": [
        "# Text preprocessing activity_description\n",
        "clean_spcl_1 = re.compile('[/(){}\\[\\]\\|@,;]')\n",
        "clean_symbol_1 = re.compile('[^0-9a-z #+_]')\n",
        "stopworda_1 = set(stopwords.words('english'))\n",
        "\n",
        "def clean_text_1(text_1):\n",
        "    # lowercase text\n",
        "    text_1 = text_1.lower() \n",
        "    text_1 = clean_spcl_1.sub(' ', text_1)\n",
        "    text_1 = clean_symbol_1.sub('', text_1)\n",
        "\n",
        "    # remove stopword form activity_description column\n",
        "    text_1 = ' '.join(word for word in text_1.split() if word not in stopworda_1)\n",
        "    return text_1\n",
        "\n",
        "# Create an additional column for the description of the data that has been cleaned  \n",
        "dataset['act_descrip_clean'] = dataset['activity_description'].apply(clean_text_1)"
      ],
      "metadata": {
        "id": "2qJnRI2WDy0W"
      },
      "execution_count": null,
      "outputs": []
    },
    {
      "cell_type": "code",
      "source": [
        "# Activity description after preprocessing\n",
        "def print_act_descrip_clean(index):\n",
        "    example_1 = dataset[dataset.index == index][['act_descrip_clean', 'travel_preference', 'activity_preferences']].values[0]\n",
        "    if len(example_1) > 0:\n",
        "        print(example_1[0])\n",
        "        print('Travel Preference:', example_1[1])\n",
        "        print('Activity Preference:', example_1[2])"
      ],
      "metadata": {
        "id": "sNv2_FYfE6oK"
      },
      "execution_count": null,
      "outputs": []
    },
    {
      "cell_type": "code",
      "source": [
        "print_act_descrip_clean(1)"
      ],
      "metadata": {
        "colab": {
          "base_uri": "https://localhost:8080/"
        },
        "id": "KXcD7bw6FjqE",
        "outputId": "0994ca90-ee20-4500-e6f5-ff67f6555c00"
      },
      "execution_count": null,
      "outputs": [
        {
          "output_type": "stream",
          "name": "stdout",
          "text": [
            "trekking activity walking nature explore mountain paths forests natural areas activity quite easy followed least 2 people group activity rice field trekking jungle trekking\n",
            "Travel Preference: Group tour\n",
            "Activity Preference: Rice Field Trekking\n"
          ]
        }
      ]
    },
    {
      "cell_type": "code",
      "source": [
        "# Text preprocessing tour_description\n",
        "clean_spcl_2 = re.compile('[/(){}\\[\\]\\|@,;]')\n",
        "clean_symbol_2 = re.compile('[^0-9a-z #+_]')\n",
        "stopworda_2 = set(stopwords.words('english'))\n",
        "\n",
        "def clean_text_2(text_2):\n",
        "    text_2 = text_2.lower() # lowercase text\n",
        "    text_2 = clean_spcl_2.sub(' ', text_2)\n",
        "    text_2 = clean_symbol_2.sub('', text_2)\n",
        "\n",
        "    # remove stopword form tour_description column\n",
        "    text_2 = ' '.join(word for word in text_2.split() if word not in stopworda_2)\n",
        "    return text_2\n",
        "\n",
        "# Buat kolom tambahan untuk data description yang telah dibersihkan   \n",
        "dataset['tour_descrip_clean'] = dataset['tour_description'].apply(clean_text_2)"
      ],
      "metadata": {
        "id": "hH_-tnjQGEMX"
      },
      "execution_count": null,
      "outputs": []
    },
    {
      "cell_type": "code",
      "source": [
        "# Tour description after preprocessing\n",
        "def print_tour_descrip_clean(index):\n",
        "    example_2 = dataset[dataset.index == index][['tour_descrip_clean', 'travel_preference', 'tour_preferences']].values[0]\n",
        "    if len(example_2) > 0:\n",
        "        print(example_2[0])\n",
        "        print('Travel Preference:', example_2[1])\n",
        "        print('Tour Preference:', example_2[2])"
      ],
      "metadata": {
        "id": "qI5pdBrNGqSS"
      },
      "execution_count": null,
      "outputs": []
    },
    {
      "cell_type": "code",
      "source": [
        "print_tour_descrip_clean(3)"
      ],
      "metadata": {
        "colab": {
          "base_uri": "https://localhost:8080/"
        },
        "id": "AY4e9r34G8rK",
        "outputId": "758f25ea-3dc2-4167-e304-8ff1c71d7c50"
      },
      "execution_count": null,
      "outputs": [
        {
          "output_type": "stream",
          "name": "stdout",
          "text": [
            "hiking trips taro village offer adventurous experiences natural exploration hiking trip participants pass predetermined paths various levels difficulty\n",
            "Travel Preference: Solo\n",
            "Tour Preference: Hiking Journey In Taro Village\n"
          ]
        }
      ]
    },
    {
      "cell_type": "code",
      "source": [
        "# Feature extraction for act_descrip_clean\n",
        "tfidf_activity = TfidfVectorizer()\n",
        "activity_features = tfidf_activity.fit_transform(dataset['act_descrip_clean'])"
      ],
      "metadata": {
        "id": "BIsMG8oIeff-"
      },
      "execution_count": null,
      "outputs": []
    },
    {
      "cell_type": "code",
      "source": [
        "# Similarity matrix for activity_description\n",
        "similarity_matrix_activity = cosine_similarity(activity_features)"
      ],
      "metadata": {
        "id": "lEt1I-3Pekpp"
      },
      "execution_count": null,
      "outputs": []
    },
    {
      "cell_type": "code",
      "source": [
        "# Feature extraction for tour_descrip_clean\n",
        "tfidf_tour = TfidfVectorizer()\n",
        "tour_features = tfidf_tour.fit_transform(dataset['tour_descrip_clean'])"
      ],
      "metadata": {
        "id": "mrkOr-2yenNh"
      },
      "execution_count": null,
      "outputs": []
    },
    {
      "cell_type": "code",
      "source": [
        "# Similarity matrix for tour_description\n",
        "similarity_matrix_tour = cosine_similarity(tour_features)"
      ],
      "metadata": {
        "id": "WURven6LeptY"
      },
      "execution_count": null,
      "outputs": []
    },
    {
      "cell_type": "code",
      "source": [
        "# Function to get similar preferences based on activity and tour preferences\n",
        "def get_similar_preferences(activity_preferences, tour_preferences, main_preference, top_n=3):\n",
        "    activity_index = dataset[dataset['activity_preferences'] == activity_preferences].index[0]\n",
        "    activity_similarity_scores = similarity_matrix_activity[activity_index]\n",
        "    similar_activities_indices = activity_similarity_scores.argsort()[::-1][1:top_n+1]\n",
        "    similar_activities = dataset.loc[similar_activities_indices, 'activity_preferences']\n",
        "    \n",
        "    tour_index = dataset[dataset['tour_preferences'] == tour_preferences].index[0]\n",
        "    tour_similarity_scores = similarity_matrix_tour[tour_index]\n",
        "    similar_tours_indices = tour_similarity_scores.argsort()[::-1][1:top_n+1]\n",
        "    similar_tours = dataset.loc[similar_tours_indices, 'tour_preferences']\n",
        "    \n",
        "    # Combine similar activities and tours\n",
        "    similar_preferences = similar_activities.tolist() + similar_tours.tolist()\n",
        "    \n",
        "    # Add the user's primary choice to the list of similar preferences\n",
        "    similar_preferences = [main_preference] + similar_preferences\n",
        "    \n",
        "    # Remove duplicates from the list of similar_preferences\n",
        "    similar_preferences = list(dict.fromkeys(similar_preferences))\n",
        "    \n",
        "    return similar_preferences"
      ],
      "metadata": {
        "id": "tOLCLt-ker3S"
      },
      "execution_count": null,
      "outputs": []
    },
    {
      "cell_type": "code",
      "source": [
        "# Prompt user for activity_preferences and tour_preferences\n",
        "activity_preferences = input(\"Enter your activity preferences: \")\n",
        "tour_preferences = input(\"Enter your tour preferences: \")\n",
        "main_preference = activity_preferences\n",
        "\n",
        "similar_preferences = get_similar_preferences(activity_preferences, tour_preferences, main_preference, top_n=3)\n",
        "print(\"Recommendation Activities and Packet Tours:\")\n",
        "for i, preference in enumerate(similar_preferences):\n",
        "    print(f\"{i+1}. {preference}\")"
      ],
      "metadata": {
        "colab": {
          "base_uri": "https://localhost:8080/"
        },
        "id": "yJMcFOHweugz",
        "outputId": "f12b58ab-359c-4556-d446-6308a403801b"
      },
      "execution_count": null,
      "outputs": [
        {
          "output_type": "stream",
          "name": "stdout",
          "text": [
            "Enter your activity preferences: Jungle Trekking\n",
            "Enter your tour preferences: Treasure Hunt & Cooking Battle\n",
            "Recommendation Activities and Packet Tours:\n",
            "1. Jungle Trekking\n",
            "2. Rice Field Trekking\n",
            "3. Fireflies Watching\n",
            "4. Down Hill Cycling\n",
            "5. Treasure Hunt & Cooking Battle\n",
            "6. Hiking Journey In Taro Village\n"
          ]
        }
      ]
    }
  ]
}